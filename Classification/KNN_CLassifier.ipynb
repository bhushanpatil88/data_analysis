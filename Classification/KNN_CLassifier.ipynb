{
  "nbformat": 4,
  "nbformat_minor": 0,
  "metadata": {
    "colab": {
      "provenance": []
    },
    "kernelspec": {
      "name": "python3",
      "display_name": "Python 3"
    },
    "language_info": {
      "name": "python"
    }
  },
  "cells": [
    {
      "cell_type": "code",
      "execution_count": 14,
      "metadata": {
        "id": "M1qMtvfr4F6N"
      },
      "outputs": [],
      "source": [
        "import numpy as np\n"
      ]
    },
    {
      "cell_type": "code",
      "source": [
        "from sklearn import datasets\n",
        "iris = datasets.load_iris()"
      ],
      "metadata": {
        "id": "Q_Heusp84TbB"
      },
      "execution_count": 15,
      "outputs": []
    },
    {
      "cell_type": "code",
      "source": [
        "X = iris.data\n",
        "y = iris.target"
      ],
      "metadata": {
        "id": "uY5vPMh64ct1"
      },
      "execution_count": 16,
      "outputs": []
    },
    {
      "cell_type": "code",
      "source": [
        "from sklearn.model_selection import train_test_split\n",
        "X_train, X_test, y_train,y_test = train_test_split(X,y,random_state = 2,test_size=0.3)"
      ],
      "metadata": {
        "id": "hUORUGKo4sE2"
      },
      "execution_count": 17,
      "outputs": []
    },
    {
      "cell_type": "code",
      "source": [
        "from sklearn.neighbors import KNeighborsClassifier\n",
        "classifier = KNeighborsClassifier(n_neighbors = 3)\n",
        "classifier.fit(X_train, y_train)\n",
        "y_pred = classifier.predict(X_test)"
      ],
      "metadata": {
        "id": "H7Mg3nne7_Vw"
      },
      "execution_count": 96,
      "outputs": []
    },
    {
      "cell_type": "code",
      "source": [
        "from collections import Counter\n",
        "\n",
        "class KNN:\n",
        "  def __init__(self, k=2):\n",
        "    self.k = k\n",
        "\n",
        "  def fit(self,X_train,y_train):\n",
        "    self.X_train = X_train\n",
        "    self.y_train = y_train\n",
        "  def predict(self,X_test):\n",
        "    predictions = [self._predict(x) for x in X_test]\n",
        "    return predictions\n",
        "\n",
        "  def _predict(self,x_test):\n",
        "    distances = [self.euclidean_dist(x_test,x_train) for x_train in self.X_train]\n",
        " \n",
        "    \n",
        "    k_inds = np.argsort(distances)[:self.k]\n",
        "    k_lables = [self.y_train[i] for i in k_inds]\n",
        "\n",
        "    most_vote =  Counter(k_lables).most_common()[0][0]\n",
        "    return most_vote\n",
        "\n",
        "  def euclidean_dist(self,x1,x2):\n",
        "    return np.sqrt(np.sum((x1-x2)**2))\n",
        "\n",
        "\n",
        "  "
      ],
      "metadata": {
        "id": "yu7-hW0I5CN0"
      },
      "execution_count": 97,
      "outputs": []
    },
    {
      "cell_type": "code",
      "source": [
        "knn = KNN(k=3)\n",
        "knn.fit(X_train,y_train)\n",
        "y_pred1 = knn.predict(X_test)\n"
      ],
      "metadata": {
        "id": "HefVp8X36-HD"
      },
      "execution_count": 98,
      "outputs": []
    },
    {
      "cell_type": "code",
      "source": [
        "from sklearn.metrics import accuracy_score \n",
        "print(accuracy_score(y_test,y_pred1)*100)\n",
        "print(accuracy_score(y_test,y_pred)*100)"
      ],
      "metadata": {
        "colab": {
          "base_uri": "https://localhost:8080/"
        },
        "id": "7bxs1iUU7GeF",
        "outputId": "8ab727fa-23a4-4356-e0eb-59591afc2c75"
      },
      "execution_count": 99,
      "outputs": [
        {
          "output_type": "stream",
          "name": "stdout",
          "text": [
            "100.0\n",
            "100.0\n"
          ]
        }
      ]
    },
    {
      "cell_type": "code",
      "source": [],
      "metadata": {
        "id": "4hWeOsf3CTpO"
      },
      "execution_count": null,
      "outputs": []
    }
  ]
}