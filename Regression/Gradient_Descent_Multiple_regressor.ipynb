{
  "nbformat": 4,
  "nbformat_minor": 0,
  "metadata": {
    "colab": {
      "provenance": []
    },
    "kernelspec": {
      "name": "python3",
      "display_name": "Python 3"
    },
    "language_info": {
      "name": "python"
    }
  },
  "cells": [
    {
      "cell_type": "code",
      "execution_count": null,
      "metadata": {
        "id": "TFADN-OyI1Ru"
      },
      "outputs": [],
      "source": [
        "import numpy as np\n",
        "import pandas as pd\n",
        "import matplotlib.pyplot as plt"
      ]
    },
    {
      "cell_type": "code",
      "source": [
        "from sklearn.datasets import load_diabetes\n",
        "X,y = load_diabetes(return_X_y=True)"
      ],
      "metadata": {
        "id": "T2cQdvhtI8e8"
      },
      "execution_count": null,
      "outputs": []
    },
    {
      "cell_type": "code",
      "source": [
        "from sklearn.model_selection import train_test_split\n",
        "X_train,X_test,y_train,y_test = train_test_split(X,y,test_size=0.2,random_state=2)"
      ],
      "metadata": {
        "id": "yKL7rJ0FI-eL"
      },
      "execution_count": null,
      "outputs": []
    },
    {
      "cell_type": "code",
      "source": [
        "X_train.shape"
      ],
      "metadata": {
        "colab": {
          "base_uri": "https://localhost:8080/"
        },
        "id": "UwysoHWzJAnS",
        "outputId": "80c4a212-9adc-44c0-a90a-1d1b21995b75"
      },
      "execution_count": null,
      "outputs": [
        {
          "output_type": "execute_result",
          "data": {
            "text/plain": [
              "(353, 10)"
            ]
          },
          "metadata": {},
          "execution_count": 24
        }
      ]
    },
    {
      "cell_type": "code",
      "source": [
        "from sklearn.linear_model import LinearRegression\n",
        "lr_sk = LinearRegression()"
      ],
      "metadata": {
        "id": "ZfGt5tw-JCy6"
      },
      "execution_count": null,
      "outputs": []
    },
    {
      "cell_type": "code",
      "source": [
        "lr_sk.fit(X_train,y_train)"
      ],
      "metadata": {
        "colab": {
          "base_uri": "https://localhost:8080/"
        },
        "id": "pjTWKr-AJEqa",
        "outputId": "7543fb74-c646-4c8e-cfb1-2ad550239702"
      },
      "execution_count": null,
      "outputs": [
        {
          "output_type": "execute_result",
          "data": {
            "text/plain": [
              "LinearRegression()"
            ]
          },
          "metadata": {},
          "execution_count": 26
        }
      ]
    },
    {
      "cell_type": "code",
      "source": [
        "y_pred_sk = lr_sk.predict(X_test)\n",
        "print(y_pred_sk)"
      ],
      "metadata": {
        "colab": {
          "base_uri": "https://localhost:8080/"
        },
        "id": "_qh76CgVJGlC",
        "outputId": "778a7f5c-f582-4058-8499-044d2999ae34"
      },
      "execution_count": null,
      "outputs": [
        {
          "output_type": "stream",
          "name": "stdout",
          "text": [
            "[154.1235067  204.81721599 124.92988001 106.09339576 258.53035681\n",
            " 256.32953702 118.75258786 119.52147402 101.50717468 190.54137158\n",
            " 141.70360267 172.51631204 174.34089304 134.81184017 294.13950798\n",
            "  94.11403289 211.97052873 156.49984762 134.20709632 119.62534726\n",
            " 148.88045343 165.00378118 151.09977307 176.03719872 133.27651748\n",
            " 221.29531227 197.17482787  96.15923158  50.26531577 230.48342249\n",
            " 242.06266394 114.1153262   67.0785352   94.53179042 201.21593262\n",
            " 167.05306138 159.87838519 192.78601513 114.49291816 233.4825497\n",
            " 140.82309666 121.06814332 192.27431013 191.13157307 179.1698153\n",
            " 148.35140027 163.47610288 276.81203359 100.17813072 164.11265163\n",
            " 255.81074398 136.94979051 152.37507828 107.92662528 194.21661635\n",
            "  77.35015426 118.50951725  68.38527563 154.29094022 162.48905632\n",
            " 168.36590928 156.8764705   97.13958436 238.17121803 145.46093854\n",
            " 117.65678691 168.88768692 198.38893625 118.24408332 124.64831033\n",
            " 223.17842907 200.62634508 129.54591274 158.1553552  154.33593871\n",
            " 114.47109854  70.4524892   76.39237963 172.41319558  80.56189628\n",
            "  80.27309695  89.46135201 186.21265361 275.46607679 208.26816596\n",
            " 143.7962915  291.28438095 206.32601303  94.22801028]\n"
          ]
        }
      ]
    },
    {
      "cell_type": "code",
      "source": [
        "from sklearn.metrics import mean_absolute_error,mean_squared_error,r2_score\n",
        "\n",
        "print(f\"MAE {mean_absolute_error(y_test,y_pred_sk)}\")\n",
        "print(f\"MSE {mean_squared_error(y_test,y_pred_sk)}\")\n",
        "\n",
        "print(f\"R2 {r2_score(y_test,y_pred_sk)}\")"
      ],
      "metadata": {
        "colab": {
          "base_uri": "https://localhost:8080/"
        },
        "id": "QO42I87OJIcq",
        "outputId": "1de50df2-c048-44d6-ac05-641e64e19c88"
      },
      "execution_count": null,
      "outputs": [
        {
          "output_type": "stream",
          "name": "stdout",
          "text": [
            "MAE 45.21292481299676\n",
            "MSE 3094.4295991207023\n",
            "R2 0.4399387660024645\n"
          ]
        }
      ]
    },
    {
      "cell_type": "code",
      "source": [
        "print(f\"{lr_sk.coef_} {lr_sk.intercept_}\")"
      ],
      "metadata": {
        "colab": {
          "base_uri": "https://localhost:8080/"
        },
        "id": "WGKQbvMdJLLh",
        "outputId": "77dd238e-3aa5-400f-9a5f-a2d6f464f2e7"
      },
      "execution_count": null,
      "outputs": [
        {
          "output_type": "stream",
          "name": "stdout",
          "text": [
            "[  -9.16088483 -205.46225988  516.68462383  340.62734108 -895.54360867\n",
            "  561.21453306  153.88478595  126.73431596  861.12139955   52.41982836] 151.88334520854633\n"
          ]
        }
      ]
    },
    {
      "cell_type": "code",
      "source": [
        "class GDRegressor:\n",
        "    \n",
        "    def __init__(self,learning_rate=0.01,epochs=100):\n",
        "        \n",
        "        self.coef_ = None\n",
        "        self.intercept_ = None\n",
        "        self.lr = learning_rate\n",
        "        self.epochs = epochs\n",
        "        \n",
        "    def fit_batch(self,X_train,y_train):\n",
        "        \n",
        "        self.intercept_ = 0\n",
        "        self.coef_ = np.ones(X_train.shape[1])\n",
        "        \n",
        "        for i in range(self.epochs):\n",
        "           \n",
        "            y_hat = np.dot(X_train,self.coef_) + self.intercept_\n",
        "           \n",
        "            intercept_der = -2 * np.mean(y_train - y_hat)\n",
        "            self.intercept_ = self.intercept_ - (self.lr * intercept_der)\n",
        "            \n",
        "            coef_der = -2 * np.dot((y_train - y_hat),X_train)/X_train.shape[0]\n",
        "            self.coef_ = self.coef_ - (self.lr * coef_der)\n",
        "        \n",
        "        print(self.intercept_,self.coef_)\n",
        "    \n",
        "    def fit_stochastic(self,X_train,y_train):\n",
        "      self.intercept_ = 0\n",
        "      self.coef_ = np.ones(X_train.shape[1])\n",
        "\n",
        "      for i in range(self.epochs):\n",
        "        for j in range(X_train.shape[0]):\n",
        "          ind = np.random.randint(0,X_train.shape[0])\n",
        "          \n",
        "          y_hat = np.dot(X_train[ind],self.coef_) + self.intercept_\n",
        "          \n",
        "          intercept_der = -2 * (y_train[ind] - y_hat)\n",
        "          self.intercept_ = self.intercept_ - (self.lr * intercept_der)\n",
        "          \n",
        "          coef_der = -2 * np.dot((y_train[ind] - y_hat),X_train[ind])\n",
        "          self.coef_ = self.coef_ - (self.lr * coef_der)\n",
        "\n",
        "      print(self.intercept_,self.coef_)\n",
        "\n",
        "\n",
        "    \n",
        "    def predict(self,X_test):\n",
        "        return np.dot(X_test,self.coef_) + self.intercept_"
      ],
      "metadata": {
        "id": "L8CWEUFeJNOy"
      },
      "execution_count": null,
      "outputs": []
    },
    {
      "cell_type": "code",
      "source": [
        "gdm = GDRegressor(epochs=50,learning_rate=0.01)"
      ],
      "metadata": {
        "id": "IHZvcsFqNMyV"
      },
      "execution_count": null,
      "outputs": []
    },
    {
      "cell_type": "code",
      "source": [
        "gdm.fit_batch(X_train,y_train)"
      ],
      "metadata": {
        "colab": {
          "base_uri": "https://localhost:8080/"
        },
        "id": "foP9kYBkNhqb",
        "outputId": "36fbcda5-5bc4-42f0-afab-b93a0ae6a1cb"
      },
      "execution_count": null,
      "outputs": [
        {
          "output_type": "stream",
          "name": "stdout",
          "text": [
            "152.0135263267291 [  14.38915082 -173.72674118  491.54504015  323.91983579  -39.32680194\n",
            " -116.01099114 -194.04229501  103.38216641  451.63385893   97.57119174]\n"
          ]
        }
      ]
    },
    {
      "cell_type": "code",
      "source": [
        "gdm.fit_stochastic(X_train,y_train)"
      ],
      "metadata": {
        "colab": {
          "base_uri": "https://localhost:8080/"
        },
        "id": "mApJH5JxXsEB",
        "outputId": "8922fa52-a3b8-4dde-d355-a0f64109590a"
      },
      "execution_count": null,
      "outputs": [
        {
          "output_type": "stream",
          "name": "stdout",
          "text": [
            "150.67187543204332 [  51.76241906  -72.62184914  342.37153861  244.31603174   19.69969206\n",
            "  -28.58497558 -174.18508544  131.68819199  325.729342    128.56681987]\n"
          ]
        }
      ]
    },
    {
      "cell_type": "code",
      "source": [
        "y_predm = gdm.predict(X_test)\n",
        "print(y_predm)"
      ],
      "metadata": {
        "colab": {
          "base_uri": "https://localhost:8080/"
        },
        "id": "DxUsoiRKNlaT",
        "outputId": "2218ddd2-0e2b-4b87-e285-832db47904b9"
      },
      "execution_count": null,
      "outputs": [
        {
          "output_type": "stream",
          "name": "stdout",
          "text": [
            "[152.17709004 189.29516997 138.23495913 108.31759429 242.5848751\n",
            " 233.73785276 106.66837611 114.3831346   91.78158804 183.24199781\n",
            " 158.96218189 170.76342663 182.23274996 150.16072781 251.96318835\n",
            "  91.52175972 184.77795756 138.80018494 138.90572617 137.20253312\n",
            " 130.72072079 188.66136304 165.57448907 176.25604079 125.4654793\n",
            " 219.09165925 192.07692518 120.10195931  62.72581914 239.35631064\n",
            " 235.42991569 118.83478441  74.99951458 109.15100867 198.59303031\n",
            " 165.67023862 164.96940168 194.56559949 114.33770875 231.82176114\n",
            " 133.91136607 125.49071808 184.26421041 185.15850764 168.21281468\n",
            " 145.43707543 171.11999988 276.32226998 116.33573977 187.72207617\n",
            " 233.91676199 128.67377453 142.51296947 148.80862307 187.47662541\n",
            " 112.13796129 154.28225926  85.59734937 157.10032516 142.5247298\n",
            " 162.21826834 169.18776892 109.65800826 203.47930816 156.14183722\n",
            " 151.65573813 149.60404417 187.64295364 120.86468347 142.44172169\n",
            " 199.21245324 184.85354999 120.10969587 149.09887129 140.30551021\n",
            " 114.00012427  86.11580214  88.27927942 169.50197502  89.14040106\n",
            "  99.05598967 108.62830455 163.63437094 256.1220862  198.5372639\n",
            " 138.68267392 248.19547122 182.96259958 112.71818754]\n"
          ]
        }
      ]
    },
    {
      "cell_type": "code",
      "source": [
        "r2_score(y_test,y_predm)"
      ],
      "metadata": {
        "colab": {
          "base_uri": "https://localhost:8080/"
        },
        "id": "8eMfdnroOBvc",
        "outputId": "4f484a16-b9ae-4a0a-83fb-fa1ae8babaf9"
      },
      "execution_count": null,
      "outputs": [
        {
          "output_type": "execute_result",
          "data": {
            "text/plain": [
              "0.43357570712807214"
            ]
          },
          "metadata": {},
          "execution_count": 56
        }
      ]
    },
    {
      "cell_type": "code",
      "source": [
        "from sklearn.linear_model import SGDRegressor"
      ],
      "metadata": {
        "id": "C6TsnpwxbpJE"
      },
      "execution_count": null,
      "outputs": []
    },
    {
      "cell_type": "code",
      "source": [
        "sgd = SGDRegressor(max_iter=100,learning_rate='constant',eta0=0.01)"
      ],
      "metadata": {
        "id": "WsGWsJd-bvbG"
      },
      "execution_count": null,
      "outputs": []
    },
    {
      "cell_type": "code",
      "source": [
        "sgd.fit(X_train,y_train)"
      ],
      "metadata": {
        "colab": {
          "base_uri": "https://localhost:8080/"
        },
        "id": "J7iiMLMMb8q8",
        "outputId": "8fe2dc1a-d1c9-4c8c-ee86-281cf8dd4892"
      },
      "execution_count": null,
      "outputs": [
        {
          "output_type": "execute_result",
          "data": {
            "text/plain": [
              "SGDRegressor(learning_rate='constant', max_iter=100)"
            ]
          },
          "metadata": {},
          "execution_count": 64
        }
      ]
    },
    {
      "cell_type": "code",
      "source": [
        "y_pred_sgd = sgd.predict(X_test)"
      ],
      "metadata": {
        "id": "KhgD0LJ-cANj"
      },
      "execution_count": null,
      "outputs": []
    },
    {
      "cell_type": "code",
      "source": [
        "r2_score(y_test,y_pred_sgd)"
      ],
      "metadata": {
        "colab": {
          "base_uri": "https://localhost:8080/"
        },
        "id": "UO8OBJBFcElb",
        "outputId": "a742d0b6-0811-4bf4-b8a3-e335c82f43c1"
      },
      "execution_count": null,
      "outputs": [
        {
          "output_type": "execute_result",
          "data": {
            "text/plain": [
              "0.4302968874891505"
            ]
          },
          "metadata": {},
          "execution_count": 66
        }
      ]
    },
    {
      "cell_type": "code",
      "source": [],
      "metadata": {
        "id": "H1SVByKwcK7b"
      },
      "execution_count": null,
      "outputs": []
    }
  ]
}