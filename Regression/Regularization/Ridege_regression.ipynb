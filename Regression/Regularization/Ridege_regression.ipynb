{
  "nbformat": 4,
  "nbformat_minor": 0,
  "metadata": {
    "colab": {
      "provenance": []
    },
    "kernelspec": {
      "name": "python3",
      "display_name": "Python 3"
    },
    "language_info": {
      "name": "python"
    }
  },
  "cells": [
    {
      "cell_type": "code",
      "execution_count": 23,
      "metadata": {
        "id": "Ur9HyGJqi29d"
      },
      "outputs": [],
      "source": [
        "from sklearn.datasets import load_diabetes\n",
        "from sklearn.metrics import r2_score\n",
        "import numpy as np"
      ]
    },
    {
      "cell_type": "code",
      "source": [
        "X,y = load_diabetes(return_X_y=True)\n",
        "from sklearn.model_selection import train_test_split\n",
        "X_train,X_test,y_train,y_test = train_test_split(X,y,test_size=0.2,random_state=4)"
      ],
      "metadata": {
        "id": "C_Chm-ibi6F8"
      },
      "execution_count": 24,
      "outputs": []
    },
    {
      "cell_type": "code",
      "source": [
        "from sklearn.model_selection import train_test_split\n",
        "X_train,X_test,y_train,y_test=train_test_split(X,y,test_size=0.2,random_state=45)\n"
      ],
      "metadata": {
        "id": "kqmopLzni-9H"
      },
      "execution_count": 25,
      "outputs": []
    },
    {
      "cell_type": "code",
      "source": [
        "from sklearn.linear_model import LinearRegression\n",
        "L=LinearRegression()\n",
        "L.fit(X_train,y_train)"
      ],
      "metadata": {
        "colab": {
          "base_uri": "https://localhost:8080/"
        },
        "id": "R_-OpfRYjAxJ",
        "outputId": "52993661-43c2-4b82-d3b3-e1b2ae1a0843"
      },
      "execution_count": 26,
      "outputs": [
        {
          "output_type": "execute_result",
          "data": {
            "text/plain": [
              "LinearRegression()"
            ]
          },
          "metadata": {},
          "execution_count": 26
        }
      ]
    },
    {
      "cell_type": "code",
      "source": [
        "print(L.coef_)\n",
        "print(L.intercept_)\n",
        "\n",
        "y_pred=L.predict(X_test)"
      ],
      "metadata": {
        "colab": {
          "base_uri": "https://localhost:8080/"
        },
        "id": "q15gK9F1jIO6",
        "outputId": "f06e84fe-9943-43f3-afbe-b3e84c2084b1"
      },
      "execution_count": 27,
      "outputs": [
        {
          "output_type": "stream",
          "name": "stdout",
          "text": [
            "[  23.45388514 -247.43107084  492.10188174  329.36498638 -970.79784704\n",
            "  573.54460121  182.41386124  255.9162021   794.21654496   89.32074078]\n",
            "152.13619339070766\n"
          ]
        }
      ]
    },
    {
      "cell_type": "code",
      "source": [
        "from sklearn.metrics import r2_score,mean_squared_error\n",
        "\n",
        "print(\"R2 score\",r2_score(y_test,y_pred))\n",
        "print(\"RMSE\",np.sqrt(mean_squared_error(y_test,y_pred)))"
      ],
      "metadata": {
        "colab": {
          "base_uri": "https://localhost:8080/"
        },
        "id": "jNd82st0jMbg",
        "outputId": "06e054d6-ae1e-4ff2-94bc-d6b4afa288fd"
      },
      "execution_count": 28,
      "outputs": [
        {
          "output_type": "stream",
          "name": "stdout",
          "text": [
            "R2 score 0.5188118914964637\n",
            "RMSE 48.72710829141399\n"
          ]
        }
      ]
    },
    {
      "cell_type": "code",
      "source": [
        "from sklearn.linear_model import Ridge\n",
        "reg = Ridge(alpha=0.1,solver='cholesky')\n",
        "reg.fit(X_train,y_train)"
      ],
      "metadata": {
        "colab": {
          "base_uri": "https://localhost:8080/"
        },
        "id": "BwRUusPqjPW3",
        "outputId": "625f09b2-11f7-4665-c8c3-9adbe026b8ac"
      },
      "execution_count": 29,
      "outputs": [
        {
          "output_type": "execute_result",
          "data": {
            "text/plain": [
              "Ridge(alpha=0.1, solver='cholesky')"
            ]
          },
          "metadata": {},
          "execution_count": 29
        }
      ]
    },
    {
      "cell_type": "code",
      "source": [
        "print(reg.coef_)\n",
        "print(reg.intercept_)\n",
        "y_pred1=reg.predict(X_test)"
      ],
      "metadata": {
        "colab": {
          "base_uri": "https://localhost:8080/"
        },
        "id": "wm68dkqgjRKA",
        "outputId": "a18b78e3-d992-45b6-c018-aecc8c769ef2"
      },
      "execution_count": 30,
      "outputs": [
        {
          "output_type": "stream",
          "name": "stdout",
          "text": [
            "[  31.03344807 -204.83280677  464.89204971  304.97048049  -95.76089473\n",
            "  -87.53096382 -183.82098643  147.49711824  425.85314733  110.2146304 ]\n",
            "152.07140272937212\n"
          ]
        }
      ]
    },
    {
      "cell_type": "code",
      "source": [
        "print(\"R2 score\",r2_score(y_test,y_pred1))\n",
        "print(\"RMSE\",np.sqrt(mean_squared_error(y_test,y_pred1)))"
      ],
      "metadata": {
        "colab": {
          "base_uri": "https://localhost:8080/"
        },
        "id": "21laFUUvjXaZ",
        "outputId": "77a0f3c8-677b-4ade-eb03-8521c9246a60"
      },
      "execution_count": 31,
      "outputs": [
        {
          "output_type": "stream",
          "name": "stdout",
          "text": [
            "R2 score 0.520841764610937\n",
            "RMSE 48.62422297718698\n"
          ]
        }
      ]
    },
    {
      "cell_type": "code",
      "source": [
        "class Ridge_regressor:\n",
        "    \n",
        "    def __init__(self,alpha=0.1):\n",
        "        \n",
        "        self.alpha = alpha\n",
        "        self.coef_ = None\n",
        "        self.intercept_ = None\n",
        "        \n",
        "    def fit(self,X_train,y_train):\n",
        "        \n",
        "        X_train = np.insert(X_train,0,1,axis=1)\n",
        "        I = np.identity(X_train.shape[1])\n",
        "        I[0][0] = 0\n",
        "        result = np.linalg.inv(np.dot(X_train.T,X_train) + self.alpha * I).dot(X_train.T).dot(y_train)\n",
        "        self.intercept_ = result[0]\n",
        "        self.coef_ = result[1:]\n",
        "    \n",
        "    def predict(self,X_test):\n",
        "        return np.dot(X_test,self.coef_) + self.intercept_"
      ],
      "metadata": {
        "id": "SoImex0ujZi4"
      },
      "execution_count": 32,
      "outputs": []
    },
    {
      "cell_type": "code",
      "source": [
        "reg_cust = Ridge_regressor()\n",
        "reg_cust.fit(X_train,y_train)\n",
        "y_pred_cust = reg_cust.predict(X_test)\n",
        "print(r2_score(y_test,y_pred_cust))\n",
        "print(reg_cust.coef_)\n",
        "print(reg_cust.intercept_)"
      ],
      "metadata": {
        "colab": {
          "base_uri": "https://localhost:8080/"
        },
        "id": "kqNV_X7ql8d0",
        "outputId": "001d9e6a-067b-4798-b1e5-e8842010db90"
      },
      "execution_count": 33,
      "outputs": [
        {
          "output_type": "stream",
          "name": "stdout",
          "text": [
            "0.5208417646109371\n",
            "[  31.03344807 -204.83280677  464.89204971  304.97048049  -95.76089473\n",
            "  -87.53096382 -183.82098643  147.49711824  425.85314733  110.2146304 ]\n",
            "152.0714027293721\n"
          ]
        }
      ]
    }
  ]
}