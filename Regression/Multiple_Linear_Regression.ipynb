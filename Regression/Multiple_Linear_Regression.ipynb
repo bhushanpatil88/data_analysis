{
  "nbformat": 4,
  "nbformat_minor": 0,
  "metadata": {
    "colab": {
      "provenance": []
    },
    "kernelspec": {
      "name": "python3",
      "display_name": "Python 3"
    },
    "language_info": {
      "name": "python"
    }
  },
  "cells": [
    {
      "cell_type": "code",
      "execution_count": null,
      "metadata": {
        "id": "txjOhq6U8u7m"
      },
      "outputs": [],
      "source": [
        "import numpy as np\n",
        "import pandas as pd\n",
      ]
    },
    {
      "cell_type": "code",
      "source": [
        "from sklearn.datasets import load_diabetes\n",
        "X,y = load_diabetes(return_X_y=True)"
      ],
      "metadata": {
        "id": "wtDeCgzY8w7T"
      },
      "execution_count": null,
      "outputs": []
    },
    {
      "cell_type": "code",
      "source": [
        "from sklearn.model_selection import train_test_split\n",
        "X_train,X_test,y_train,y_test = train_test_split(X,y,test_size=0.2,random_state=2)"
      ],
      "metadata": {
        "id": "RHoC_vjN8yyx"
      },
      "execution_count": null,
      "outputs": []
    },
    {
      "cell_type": "code",
      "source": [
        "X_train.shape"
      ],
      "metadata": {
        "colab": {
          "base_uri": "https://localhost:8080/"
        },
        "id": "zZjN8eQ481KJ",
        "outputId": "4d9d9688-5e41-40e7-9e83-fe82131bbc29"
      },
      "execution_count": null,
      "outputs": [
        {
          "output_type": "execute_result",
          "data": {
            "text/plain": [
              "(353, 10)"
            ]
          },
          "metadata": {},
          "execution_count": 4
        }
      ]
    },
    {
      "cell_type": "code",
      "source": [
        "from sklearn.linear_model import LinearRegression\n",
        "lr_sk = LinearRegression()"
      ],
      "metadata": {
        "id": "yBJgCqM982xI"
      },
      "execution_count": null,
      "outputs": []
    },
    {
      "cell_type": "code",
      "source": [
        "lr_sk.fit(X_train,y_train)"
      ],
      "metadata": {
        "colab": {
          "base_uri": "https://localhost:8080/"
        },
        "id": "g6Eq_wbI84UY",
        "outputId": "5da12500-7ec0-4bfb-c1d8-2235c2edb793"
      },
      "execution_count": null,
      "outputs": [
        {
          "output_type": "execute_result",
          "data": {
            "text/plain": [
              "LinearRegression()"
            ]
          },
          "metadata": {},
          "execution_count": 6
        }
      ]
    },
    {
      "cell_type": "code",
      "source": [
        "y_pred_sk = lr_sk.predict(X_test)\n",
        "print(y_pred_sk)"
      ],
      "metadata": {
        "colab": {
          "base_uri": "https://localhost:8080/"
        },
        "id": "z9e1w2GG86NA",
        "outputId": "0c922cf2-2573-434e-e8d9-5e5f5a3003c1"
      },
      "execution_count": null,
      "outputs": [
        {
          "output_type": "stream",
          "name": "stdout",
          "text": [
            "[154.1235067  204.81721599 124.92988001 106.09339576 258.53035681\n",
            " 256.32953702 118.75258786 119.52147402 101.50717468 190.54137158\n",
            " 141.70360267 172.51631204 174.34089304 134.81184017 294.13950798\n",
            "  94.11403289 211.97052873 156.49984762 134.20709632 119.62534726\n",
            " 148.88045343 165.00378118 151.09977307 176.03719872 133.27651748\n",
            " 221.29531227 197.17482787  96.15923158  50.26531577 230.48342249\n",
            " 242.06266394 114.1153262   67.0785352   94.53179042 201.21593262\n",
            " 167.05306138 159.87838519 192.78601513 114.49291816 233.4825497\n",
            " 140.82309666 121.06814332 192.27431013 191.13157307 179.1698153\n",
            " 148.35140027 163.47610288 276.81203359 100.17813072 164.11265163\n",
            " 255.81074398 136.94979051 152.37507828 107.92662528 194.21661635\n",
            "  77.35015426 118.50951725  68.38527563 154.29094022 162.48905632\n",
            " 168.36590928 156.8764705   97.13958436 238.17121803 145.46093854\n",
            " 117.65678691 168.88768692 198.38893625 118.24408332 124.64831033\n",
            " 223.17842907 200.62634508 129.54591274 158.1553552  154.33593871\n",
            " 114.47109854  70.4524892   76.39237963 172.41319558  80.56189628\n",
            "  80.27309695  89.46135201 186.21265361 275.46607679 208.26816596\n",
            " 143.7962915  291.28438095 206.32601303  94.22801028]\n"
          ]
        }
      ]
    },
    {
      "cell_type": "code",
      "source": [
        "from sklearn.metrics import mean_absolute_error,mean_squared_error,r2_score\n",
        "\n",
        "print(f\"MAE {mean_absolute_error(y_test,y_pred_sk)}\")\n",
        "print(f\"MSE {mean_squared_error(y_test,y_pred_sk)}\")\n",
        "\n",
        "print(f\"R2 {r2_score(y_test,y_pred_sk)}\")"
      ],
      "metadata": {
        "colab": {
          "base_uri": "https://localhost:8080/"
        },
        "id": "Z-eUCsFf88DZ",
        "outputId": "b6f052d0-c407-4ac8-fbad-1de724c15775"
      },
      "execution_count": null,
      "outputs": [
        {
          "output_type": "stream",
          "name": "stdout",
          "text": [
            "MAE 45.21292481299676\n",
            "MSE 3094.4295991207023\n",
            "R2 0.4399387660024645\n"
          ]
        }
      ]
    },
    {
      "cell_type": "code",
      "source": [
        "print(f\"{lr_sk.coef_} {lr_sk.intercept_}\")"
      ],
      "metadata": {
        "colab": {
          "base_uri": "https://localhost:8080/"
        },
        "id": "rb2xBDxS8-2g",
        "outputId": "310146c2-3663-4ad4-940e-59a146324b6c"
      },
      "execution_count": null,
      "outputs": [
        {
          "output_type": "stream",
          "name": "stdout",
          "text": [
            "[  -9.16088483 -205.46225988  516.68462383  340.62734108 -895.54360867\n",
            "  561.21453306  153.88478595  126.73431596  861.12139955   52.41982836] 151.88334520854633\n"
          ]
        }
      ]
    },
    {
      "cell_type": "code",
      "source": [
        "class Multiple_LR:\n",
        "  def __inti__(self):\n",
        "    self.coef_ = None\n",
        "    self.intercept_ = None\n",
        "  def fit(self,X_train,y_train):\n",
        "    X_train = np.insert(X_train,0,1,axis=1)\n",
        "\n",
        "    B = np.linalg.inv(np.dot(X_train.T,X_train)).dot(X_train.T).dot(y_train)\n",
        "    print(B)\n",
        "    self.intercept_ = B[0]\n",
        "    self.coef_ = B[1:]\n",
        "\n",
        "  def predict(self,X_test):\n",
        "    return self.intercept_ + np.dot(X_test,self.coef_)"
      ],
      "metadata": {
        "id": "wRem4Mp29Ap5"
      },
      "execution_count": null,
      "outputs": []
    },
    {
      "cell_type": "code",
      "source": [
        "lrm = Multiple_LR()\n",
        "lrm.fit(X_train,y_train)"
      ],
      "metadata": {
        "colab": {
          "base_uri": "https://localhost:8080/"
        },
        "id": "b5epfO9M9GGw",
        "outputId": "9401d36f-6696-4dd5-bda8-d4b3649861e2"
      },
      "execution_count": null,
      "outputs": [
        {
          "output_type": "stream",
          "name": "stdout",
          "text": [
            "[ 151.88334521   -9.16088483 -205.46225988  516.68462383  340.62734108\n",
            " -895.54360867  561.21453306  153.88478595  126.73431596  861.12139955\n",
            "   52.41982836]\n"
          ]
        }
      ]
    },
    {
      "cell_type": "code",
      "source": [
        "y_predm = lrm.predict(X_test)\n",
        "print(y_predm)"
      ],
      "metadata": {
        "colab": {
          "base_uri": "https://localhost:8080/"
        },
        "id": "N22TVHNQ9I8Y",
        "outputId": "02c2edf3-006a-4592-86ba-4c259f9de2e3"
      },
      "execution_count": null,
      "outputs": [
        {
          "output_type": "stream",
          "name": "stdout",
          "text": [
            "[154.1235067  204.81721599 124.92988001 106.09339576 258.53035681\n",
            " 256.32953702 118.75258786 119.52147402 101.50717468 190.54137158\n",
            " 141.70360267 172.51631204 174.34089304 134.81184017 294.13950798\n",
            "  94.11403289 211.97052873 156.49984762 134.20709632 119.62534726\n",
            " 148.88045343 165.00378118 151.09977307 176.03719872 133.27651748\n",
            " 221.29531227 197.17482787  96.15923158  50.26531577 230.48342249\n",
            " 242.06266394 114.1153262   67.0785352   94.53179042 201.21593262\n",
            " 167.05306138 159.87838519 192.78601513 114.49291816 233.4825497\n",
            " 140.82309666 121.06814332 192.27431013 191.13157307 179.1698153\n",
            " 148.35140027 163.47610288 276.81203359 100.17813072 164.11265163\n",
            " 255.81074398 136.94979051 152.37507828 107.92662528 194.21661635\n",
            "  77.35015426 118.50951725  68.38527563 154.29094022 162.48905632\n",
            " 168.36590928 156.8764705   97.13958436 238.17121803 145.46093854\n",
            " 117.65678691 168.88768692 198.38893625 118.24408332 124.64831033\n",
            " 223.17842907 200.62634508 129.54591274 158.1553552  154.33593871\n",
            " 114.47109854  70.4524892   76.39237963 172.41319558  80.56189628\n",
            "  80.27309695  89.46135201 186.21265361 275.46607679 208.26816596\n",
            " 143.7962915  291.28438095 206.32601303  94.22801028]\n"
          ]
        }
      ]
    },
    {
      "cell_type": "code",
      "source": [
        "r2_score(y_test,y_predm)"
      ],
      "metadata": {
        "colab": {
          "base_uri": "https://localhost:8080/"
        },
        "id": "x9tC7hmf9LE4",
        "outputId": "16db7e3a-6b58-4ac2-a085-87984e5a93ba"
      },
      "execution_count": null,
      "outputs": [
        {
          "output_type": "execute_result",
          "data": {
            "text/plain": [
              "0.4399387660024645"
            ]
          },
          "metadata": {},
          "execution_count": 13
        }
      ]
    },
    {
      "cell_type": "code",
      "source": [
        "print(f\"{lrm.coef_} {lrm.intercept_}\")"
      ],
      "metadata": {
        "colab": {
          "base_uri": "https://localhost:8080/"
        },
        "id": "v-DEaiti9OJ4",
        "outputId": "953eff4f-435c-4f74-f535-83ee3a0f0ff2"
      },
      "execution_count": null,
      "outputs": [
        {
          "output_type": "stream",
          "name": "stdout",
          "text": [
            "[  -9.16088483 -205.46225988  516.68462383  340.62734108 -895.54360867\n",
            "  561.21453306  153.88478595  126.73431596  861.12139955   52.41982836] 151.88334520854627\n"
          ]
        }
      ]
    },
    {
      "cell_type": "code",
      "source": [
        "X_test.shape"
      ],
      "metadata": {
        "colab": {
          "base_uri": "https://localhost:8080/"
        },
        "id": "5jDnD14Z9Tr7",
        "outputId": "e35811ad-c88d-4803-edf3-0139948617f0"
      },
      "execution_count": null,
      "outputs": [
        {
          "output_type": "execute_result",
          "data": {
            "text/plain": [
              "(89, 10)"
            ]
          },
          "metadata": {},
          "execution_count": 15
        }
      ]
    },
    {
      "cell_type": "code",
      "source": [
        "#adjusted r2 score\n",
        "r2 = r2_score(y_test,y_predm)\n",
        "\n",
        "adj_r2 = 1-((1-r2)*(89-1)/(89-1-1))\n",
        "print(adj_r2)"
      ],
      "metadata": {
        "colab": {
          "base_uri": "https://localhost:8080/"
        },
        "id": "mKHq695N9QTJ",
        "outputId": "44a5cccb-f4f5-4b6b-cbeb-cb3b90b3efb1"
      },
      "execution_count": null,
      "outputs": [
        {
          "output_type": "stream",
          "name": "stdout",
          "text": [
            "0.433501280554217\n"
          ]
        }
      ]
    }
  ]
}
