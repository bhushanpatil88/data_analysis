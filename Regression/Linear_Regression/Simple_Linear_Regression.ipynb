{
  "nbformat": 4,
  "nbformat_minor": 0,
  "metadata": {
    "colab": {
      "provenance": []
    },
    "kernelspec": {
      "name": "python3",
      "display_name": "Python 3"
    },
    "language_info": {
      "name": "python"
    }
  },
  "cells": [
    {
      "cell_type": "code",
      "source": [
        "import numpy as np\n",
        "import pandas as pd\n",
        "import matplotlib.pyplot as plt\n"
      ],
      "metadata": {
        "id": "kF_yB40RLKwV"
      },
      "execution_count": null,
      "outputs": []
    },
    {
      "cell_type": "code",
      "source": [
        "from sklearn.datasets import load_diabetes\n",
        "X,y = load_diabetes(return_X_y=True)"
      ],
      "metadata": {
        "id": "HpTYyVqxLbdu"
      },
      "execution_count": null,
      "outputs": []
    },
    {
      "cell_type": "code",
      "source": [
        "# For Simple linear regression\n",
        "X = X[:, np.newaxis, 2]\n",
        "\n",
        "# Split the data into training/testing sets\n",
        "X_train = X[:-20]\n",
        "X_test = X[-20:]\n",
        "\n",
        "# Split the targets into training/testing sets\n",
        "y_train = y[:-20]\n",
        "y_test = y[-20:]\n"
      ],
      "metadata": {
        "id": "rCN4V52QLiLS"
      },
      "execution_count": null,
      "outputs": []
    },
    {
      "cell_type": "code",
      "source": [
        "from sklearn.model_selection import train_test_split\n",
        "X_train,X_test,y_train,y_test = train_test_split(X,y,test_size=0.2,random_state=2)"
      ],
      "metadata": {
        "id": "qSwtc3YMMR1q"
      },
      "execution_count": null,
      "outputs": []
    },
    {
      "cell_type": "code",
      "source": [
        "X_train.shape"
      ],
      "metadata": {
        "colab": {
          "base_uri": "https://localhost:8080/"
        },
        "id": "-In3lYx0jUlg",
        "outputId": "65dd1edc-67d4-4e84-c101-21f19b72debc"
      },
      "execution_count": null,
      "outputs": [
        {
          "output_type": "execute_result",
          "data": {
            "text/plain": [
              "(353, 1)"
            ]
          },
          "metadata": {},
          "execution_count": 26
        }
      ]
    },
    {
      "cell_type": "code",
      "source": [
        "from sklearn.linear_model import LinearRegression\n",
        "lr_sk = LinearRegression()"
      ],
      "metadata": {
        "id": "iGXmcGQTOYOQ"
      },
      "execution_count": null,
      "outputs": []
    },
    {
      "cell_type": "code",
      "source": [
        "lr_sk.fit(X_train,y_train)"
      ],
      "metadata": {
        "colab": {
          "base_uri": "https://localhost:8080/"
        },
        "id": "8mJcCXenOnMW",
        "outputId": "56177105-2fd0-46dd-9eb7-f39670c2bea5"
      },
      "execution_count": null,
      "outputs": [
        {
          "output_type": "execute_result",
          "data": {
            "text/plain": [
              "LinearRegression()"
            ]
          },
          "metadata": {},
          "execution_count": 28
        }
      ]
    },
    {
      "cell_type": "code",
      "source": [
        "y_pred_sk = lr_sk.predict(X_test)\n",
        "print(y_pred_sk)"
      ],
      "metadata": {
        "colab": {
          "base_uri": "https://localhost:8080/"
        },
        "id": "8G-0C848PAMr",
        "outputId": "aa022695-e4c8-4dbe-eb80-0773730309fc"
      },
      "execution_count": null,
      "outputs": [
        {
          "output_type": "stream",
          "name": "stdout",
          "text": [
            "[155.8592353  228.33052685 138.00398955 105.44442379 219.92805826\n",
            " 274.54410406  94.94133806  97.0419552  120.14874381 210.4752811\n",
            " 153.75861815 134.85306384 182.11694963 151.65800101 259.83978404\n",
            " 121.19905238 190.51941821  94.94133806 127.50090382 136.95368098\n",
            " 209.42497253 222.02867541 113.84689237 164.26170388 132.75244669\n",
            " 198.9218868  223.07898398 128.5512124  113.84689237 214.67651539\n",
            " 235.68268686  87.58917804  84.43825232 120.14874381 154.80892673\n",
            " 161.11077816 171.6138639  168.46293818 124.3499781  131.70213812\n",
            " 205.22373824 128.5512124  206.27404681 128.5512124  195.77096108\n",
            " 140.1046067  173.71448104 212.57589825 107.54504093 159.01016102\n",
            " 211.52558968 205.22373824 156.90954387 128.5512124  174.76478961\n",
            " 122.24936096 114.89720095 104.39411521 136.95368098 187.36849249\n",
            " 128.5512124  192.62003536 144.30584099 194.7206525  134.85306384\n",
            " 150.60769243 162.16108674 132.75244669 107.54504093 120.14874381\n",
            " 264.04101833 215.72682397 131.70213812 127.50090382 106.49473236\n",
            " 140.1046067  116.99781809 153.75861815 163.21139531 107.54504093\n",
            " 167.4126296   95.99164663 217.82744111 248.28638974 168.46293818\n",
            " 222.02867541 254.58824117 220.97836683 122.24936096]\n"
          ]
        }
      ]
    },
    {
      "cell_type": "code",
      "source": [
        "from sklearn.metrics import mean_absolute_error,mean_squared_error,r2_score\n",
        "\n",
        "print(f\"MAE {mean_absolute_error(y_test,y_pred_sk)}\")\n",
        "print(f\"MSE {mean_squared_error(y_test,y_pred_sk)}\")\n",
        "\n",
        "print(f\"R2 {r2_score(y_test,y_pred_sk)}\")"
      ],
      "metadata": {
        "colab": {
          "base_uri": "https://localhost:8080/"
        },
        "id": "sl0eisiQjiI8",
        "outputId": "d1844658-3b99-414f-e27d-b8f1605baafb"
      },
      "execution_count": null,
      "outputs": [
        {
          "output_type": "stream",
          "name": "stdout",
          "text": [
            "MAE 49.32512613163454\n",
            "MSE 3898.258609540552\n",
            "R2 0.2944536440831669\n"
          ]
        }
      ]
    },
    {
      "cell_type": "code",
      "source": [
        "print(f\"{lr_sk.coef_} {lr_sk.intercept_}\")"
      ],
      "metadata": {
        "colab": {
          "base_uri": "https://localhost:8080/"
        },
        "id": "-3LfTTUWj_Il",
        "outputId": "aa422736-43a7-41bd-be42-cec05e78031b"
      },
      "execution_count": null,
      "outputs": [
        {
          "output_type": "stream",
          "name": "stdout",
          "text": [
            "[974.48209999] 152.45404935855632\n"
          ]
        }
      ]
    },
    {
      "cell_type": "code",
      "source": [
        "class Simple_LR:\n",
        "  def __inti__(self):\n",
        "    self.m = None\n",
        "    self.b = None\n",
        "  def fit(self,X_train,y_train):\n",
        "    num = 0\n",
        "    den = 0\n",
        "    for i in range(X_train.shape[0]):\n",
        "      num = num + (X_train[i]-X_train.mean())*(y_train[i]-y_train.mean())\n",
        "      den = den + (X_train[i]-X_train.mean())*(X_train[i]-X_train.mean())\n",
        "    self.m = num/den\n",
        "    self.b = y_train.mean() - (self.m * X_train.mean())\n",
        "    print(self.m)\n",
        "    print(self.b)\n",
        "\n",
        "\n",
        "  def predict(self,X_test):\n",
        "    return self.m * X_test + self.b\n",
        "    "
      ],
      "metadata": {
        "id": "6Jd3syJYtLOA"
      },
      "execution_count": null,
      "outputs": []
    },
    {
      "cell_type": "code",
      "source": [
        "lr = Simple_LR()\n",
        "lr.fit(X_train,y_train)"
      ],
      "metadata": {
        "colab": {
          "base_uri": "https://localhost:8080/"
        },
        "id": "JTuM5vBFM2sb",
        "outputId": "c9fa0ec5-f78d-4ca2-9578-22b0d8da1e02"
      },
      "execution_count": null,
      "outputs": [
        {
          "output_type": "stream",
          "name": "stdout",
          "text": [
            "[974.48209999]\n",
            "[152.45404936]\n"
          ]
        }
      ]
    },
    {
      "cell_type": "code",
      "source": [
        "y_pred = lr.predict(X_test)\n",
        "print(y_pred)"
      ],
      "metadata": {
        "colab": {
          "base_uri": "https://localhost:8080/"
        },
        "id": "C8XWKzLsM8np",
        "outputId": "25dd54ff-24a3-4778-a213-cd6d127da8a9"
      },
      "execution_count": null,
      "outputs": [
        {
          "output_type": "stream",
          "name": "stdout",
          "text": [
            "[[155.8592353 ]\n",
            " [228.33052685]\n",
            " [138.00398955]\n",
            " [105.44442379]\n",
            " [219.92805826]\n",
            " [274.54410406]\n",
            " [ 94.94133806]\n",
            " [ 97.0419552 ]\n",
            " [120.14874381]\n",
            " [210.4752811 ]\n",
            " [153.75861815]\n",
            " [134.85306384]\n",
            " [182.11694963]\n",
            " [151.65800101]\n",
            " [259.83978404]\n",
            " [121.19905238]\n",
            " [190.51941821]\n",
            " [ 94.94133806]\n",
            " [127.50090382]\n",
            " [136.95368098]\n",
            " [209.42497253]\n",
            " [222.02867541]\n",
            " [113.84689237]\n",
            " [164.26170388]\n",
            " [132.75244669]\n",
            " [198.9218868 ]\n",
            " [223.07898398]\n",
            " [128.5512124 ]\n",
            " [113.84689237]\n",
            " [214.67651539]\n",
            " [235.68268686]\n",
            " [ 87.58917804]\n",
            " [ 84.43825232]\n",
            " [120.14874381]\n",
            " [154.80892673]\n",
            " [161.11077816]\n",
            " [171.6138639 ]\n",
            " [168.46293818]\n",
            " [124.3499781 ]\n",
            " [131.70213812]\n",
            " [205.22373824]\n",
            " [128.5512124 ]\n",
            " [206.27404681]\n",
            " [128.5512124 ]\n",
            " [195.77096108]\n",
            " [140.1046067 ]\n",
            " [173.71448104]\n",
            " [212.57589825]\n",
            " [107.54504093]\n",
            " [159.01016102]\n",
            " [211.52558968]\n",
            " [205.22373824]\n",
            " [156.90954387]\n",
            " [128.5512124 ]\n",
            " [174.76478961]\n",
            " [122.24936096]\n",
            " [114.89720095]\n",
            " [104.39411521]\n",
            " [136.95368098]\n",
            " [187.36849249]\n",
            " [128.5512124 ]\n",
            " [192.62003536]\n",
            " [144.30584099]\n",
            " [194.7206525 ]\n",
            " [134.85306384]\n",
            " [150.60769243]\n",
            " [162.16108674]\n",
            " [132.75244669]\n",
            " [107.54504093]\n",
            " [120.14874381]\n",
            " [264.04101833]\n",
            " [215.72682397]\n",
            " [131.70213812]\n",
            " [127.50090382]\n",
            " [106.49473236]\n",
            " [140.1046067 ]\n",
            " [116.99781809]\n",
            " [153.75861815]\n",
            " [163.21139531]\n",
            " [107.54504093]\n",
            " [167.4126296 ]\n",
            " [ 95.99164663]\n",
            " [217.82744111]\n",
            " [248.28638974]\n",
            " [168.46293818]\n",
            " [222.02867541]\n",
            " [254.58824117]\n",
            " [220.97836683]\n",
            " [122.24936096]]\n"
          ]
        }
      ]
    },
    {
      "cell_type": "code",
      "source": [
        "from sklearn.metrics import mean_absolute_error,mean_squared_error,r2_score\n",
        "\n",
        "print(f\"MAE {mean_absolute_error(y_test,y_pred)}\")\n",
        "print(f\"MSE {mean_squared_error(y_test,y_pred)}\")\n",
        "\n",
        "print(f\"R2 {r2_score(y_test,y_pred)}\")"
      ],
      "metadata": {
        "colab": {
          "base_uri": "https://localhost:8080/"
        },
        "id": "x9XY13M29wmt",
        "outputId": "97762206-e47d-453f-ceba-f3befb39ede3"
      },
      "execution_count": null,
      "outputs": [
        {
          "output_type": "stream",
          "name": "stdout",
          "text": [
            "MAE 49.32512613163454\n",
            "MSE 3898.258609540552\n",
            "R2 0.2944536440831669\n"
          ]
        }
      ]
    },
    {
      "cell_type": "code",
      "source": [
        "X_test.shape"
      ],
      "metadata": {
        "colab": {
          "base_uri": "https://localhost:8080/"
        },
        "id": "8-S9wCW--B4R",
        "outputId": "255e6898-d85c-47e0-fa50-a54a07e12f21"
      },
      "execution_count": null,
      "outputs": [
        {
          "output_type": "execute_result",
          "data": {
            "text/plain": [
              "(89, 1)"
            ]
          },
          "metadata": {},
          "execution_count": 20
        }
      ]
    },
    {
      "cell_type": "code",
      "source": [
        "#adjusted r2 score\n",
        "r2 = r2_score(y_test,y_pred)\n",
        "\n",
        "adj_r2 = 1-((1-r2)*(89-1)/(89-1-1))\n",
        "print(adj_r2)"
      ],
      "metadata": {
        "colab": {
          "base_uri": "https://localhost:8080/"
        },
        "id": "vWSFHrXD9-VK",
        "outputId": "9b6051da-fda8-4da6-e5f8-b095ea7e8090"
      },
      "execution_count": null,
      "outputs": [
        {
          "output_type": "stream",
          "name": "stdout",
          "text": [
            "0.2863439158542377\n"
          ]
        }
      ]
    },
    {
      "cell_type": "code",
      "source": [
        "plt.scatter(X,y)\n",
        "plt.plot(X_train,lr_sk.predict(X_train),color='red')"
      ],
      "metadata": {
        "colab": {
          "base_uri": "https://localhost:8080/",
          "height": 282
        },
        "id": "lu9WrSsrZMdt",
        "outputId": "9f5ed3bd-bcae-4e5f-e4ed-d431cb9d494c"
      },
      "execution_count": null,
      "outputs": [
        {
          "output_type": "execute_result",
          "data": {
            "text/plain": [
              "[<matplotlib.lines.Line2D at 0x7f65e43d1d00>]"
            ]
          },
          "metadata": {},
          "execution_count": 16
        },
        {
          "output_type": "display_data",
          "data": {
            "text/plain": [
              "<Figure size 432x288 with 1 Axes>"
            ],
            "image/png": "[encoded data removed]"
          },
          "metadata": {
            "needs_background": "light"
          }
        }
      ]
    },
    {
      "cell_type": "code",
      "source": [
        "plt.scatter(X,y)\n",
        "plt.plot(X_train,lr.predict(X_train),color='red')"
      ],
      "metadata": {
        "colab": {
          "base_uri": "https://localhost:8080/",
          "height": 282
        },
        "id": "Er4wY6pkRALa",
        "outputId": "2c532dce-419e-44ad-894c-35e5a76bcbec"
      },
      "execution_count": null,
      "outputs": [
        {
          "output_type": "execute_result",
          "data": {
            "text/plain": [
              "[<matplotlib.lines.Line2D at 0x7f65e4370fd0>]"
            ]
          },
          "metadata": {},
          "execution_count": 17
        },
        {
          "output_type": "display_data",
          "data": {
            "text/plain": [
              "<Figure size 432x288 with 1 Axes>"
            ],
            "image/png": "[encoded data removed]"
          },
          "metadata": {
            "needs_background": "light"
          }
        }
      ]
    }
  ]
}