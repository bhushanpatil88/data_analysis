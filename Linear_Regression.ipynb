{
  "nbformat": 4,
  "nbformat_minor": 0,
  "metadata": {
    "colab": {
      "provenance": []
    },
    "kernelspec": {
      "name": "python3",
      "display_name": "Python 3"
    },
    "language_info": {
      "name": "python"
    }
  },
  "cells": [
    {
      "cell_type": "code",
      "source": [
        "import numpy as np\n",
        "import pandas as pd\n",
        "import matplotlib.pyplot as plt\n"
      ],
      "metadata": {
        "id": "kF_yB40RLKwV"
      },
      "execution_count": 23,
      "outputs": []
    },
    {
      "cell_type": "code",
      "source": [
        "from sklearn.datasets import load_diabetes\n",
        "X,y = load_diabetes(return_X_y=True)"
      ],
      "metadata": {
        "id": "HpTYyVqxLbdu"
      },
      "execution_count": 24,
      "outputs": []
    },
    {
      "cell_type": "code",
      "source": [
        "# For Simple linear regression\n",
        "X = X[:, np.newaxis, 2]\n",
        "\n",
        "# Split the data into training/testing sets\n",
        "X_train = X[:-20]\n",
        "X_test = X[-20:]\n",
        "\n",
        "# Split the targets into training/testing sets\n",
        "y_train = y[:-20]\n",
        "y_test = y[-20:]\n"
      ],
      "metadata": {
        "id": "rCN4V52QLiLS"
      },
      "execution_count": null,
      "outputs": []
    },
    {
      "cell_type": "code",
      "source": [
        "from sklearn.model_selection import train_test_split\n",
        "X_train,X_test,y_train,y_test = train_test_split(X,y,test_size=0.2,random_state=2)"
      ],
      "metadata": {
        "id": "qSwtc3YMMR1q"
      },
      "execution_count": 25,
      "outputs": []
    },
    {
      "cell_type": "code",
      "source": [
        "X_train.shape"
      ],
      "metadata": {
        "colab": {
          "base_uri": "https://localhost:8080/"
        },
        "id": "-In3lYx0jUlg",
        "outputId": "a667020e-aced-4d40-9f0c-0ea8d8b86750"
      },
      "execution_count": 4,
      "outputs": [
        {
          "output_type": "execute_result",
          "data": {
            "text/plain": [
              "(353, 10)"
            ]
          },
          "metadata": {},
          "execution_count": 4
        }
      ]
    },
    {
      "cell_type": "code",
      "source": [
        "from sklearn.linear_model import LinearRegression\n",
        "lr_sk = LinearRegression()"
      ],
      "metadata": {
        "id": "iGXmcGQTOYOQ"
      },
      "execution_count": 26,
      "outputs": []
    },
    {
      "cell_type": "code",
      "source": [
        "lr_sk.fit(X_train,y_train)"
      ],
      "metadata": {
        "colab": {
          "base_uri": "https://localhost:8080/"
        },
        "id": "8mJcCXenOnMW",
        "outputId": "7c74175c-6950-4d30-e67d-f950b8bcafc9"
      },
      "execution_count": 27,
      "outputs": [
        {
          "output_type": "execute_result",
          "data": {
            "text/plain": [
              "LinearRegression()"
            ]
          },
          "metadata": {},
          "execution_count": 27
        }
      ]
    },
    {
      "cell_type": "code",
      "source": [
        "y_pred_sk = lr_sk.predict(X_test)\n",
        "print(y_pred_sk)"
      ],
      "metadata": {
        "colab": {
          "base_uri": "https://localhost:8080/"
        },
        "id": "8G-0C848PAMr",
        "outputId": "bfae7cd1-b82f-48ed-e460-384f8c2edf99"
      },
      "execution_count": 30,
      "outputs": [
        {
          "output_type": "stream",
          "name": "stdout",
          "text": [
            "[154.1235067  204.81721599 124.92988001 106.09339576 258.53035681\n",
            " 256.32953702 118.75258786 119.52147402 101.50717468 190.54137158\n",
            " 141.70360267 172.51631204 174.34089304 134.81184017 294.13950798\n",
            "  94.11403289 211.97052873 156.49984762 134.20709632 119.62534726\n",
            " 148.88045343 165.00378118 151.09977307 176.03719872 133.27651748\n",
            " 221.29531227 197.17482787  96.15923158  50.26531577 230.48342249\n",
            " 242.06266394 114.1153262   67.0785352   94.53179042 201.21593262\n",
            " 167.05306138 159.87838519 192.78601513 114.49291816 233.4825497\n",
            " 140.82309666 121.06814332 192.27431013 191.13157307 179.1698153\n",
            " 148.35140027 163.47610288 276.81203359 100.17813072 164.11265163\n",
            " 255.81074398 136.94979051 152.37507828 107.92662528 194.21661635\n",
            "  77.35015426 118.50951725  68.38527563 154.29094022 162.48905632\n",
            " 168.36590928 156.8764705   97.13958436 238.17121803 145.46093854\n",
            " 117.65678691 168.88768692 198.38893625 118.24408332 124.64831033\n",
            " 223.17842907 200.62634508 129.54591274 158.1553552  154.33593871\n",
            " 114.47109854  70.4524892   76.39237963 172.41319558  80.56189628\n",
            "  80.27309695  89.46135201 186.21265361 275.46607679 208.26816596\n",
            " 143.7962915  291.28438095 206.32601303  94.22801028]\n"
          ]
        }
      ]
    },
    {
      "cell_type": "code",
      "source": [
        "from sklearn.metrics import mean_absolute_error,mean_squared_error,r2_score\n",
        "\n",
        "print(f\"MAE {mean_absolute_error(y_test,y_pred_sk)}\")\n",
        "print(f\"MSE {mean_squared_error(y_test,y_pred_sk)}\")\n",
        "\n",
        "print(f\"R2 {r2_score(y_test,y_pred_sk)}\")"
      ],
      "metadata": {
        "colab": {
          "base_uri": "https://localhost:8080/"
        },
        "id": "sl0eisiQjiI8",
        "outputId": "94763f04-08d4-495c-8f4d-597002c03e63"
      },
      "execution_count": 31,
      "outputs": [
        {
          "output_type": "stream",
          "name": "stdout",
          "text": [
            "MAE 45.21292481299676\n",
            "MSE 3094.4295991207023\n",
            "R2 0.4399387660024645\n"
          ]
        }
      ]
    },
    {
      "cell_type": "code",
      "source": [
        "print(f\"{lr_sk.coef_} {lr_sk.intercept_}\")"
      ],
      "metadata": {
        "colab": {
          "base_uri": "https://localhost:8080/"
        },
        "id": "-3LfTTUWj_Il",
        "outputId": "dacdcfab-92f8-4026-977e-37b6a124ae51"
      },
      "execution_count": 32,
      "outputs": [
        {
          "output_type": "stream",
          "name": "stdout",
          "text": [
            "[  -9.16088483 -205.46225988  516.68462383  340.62734108 -895.54360867\n",
            "  561.21453306  153.88478595  126.73431596  861.12139955   52.41982836] 151.88334520854633\n"
          ]
        }
      ]
    },
    {
      "cell_type": "code",
      "source": [
        "class Simple_LR:\n",
        "  def __inti__(self):\n",
        "    self.m = None\n",
        "    self.b = None\n",
        "  def fit(self,X_train,y_train):\n",
        "    num = 0\n",
        "    den = 0\n",
        "    for i in range(X_train.shape[0]):\n",
        "      num = num + (X_train[i]-X_train.mean())*(y_train[i]-y_train.mean())\n",
        "      den = den + (X_train[i]-X_train.mean())*(X_train[i]-X_train.mean())\n",
        "    self.m = num/den\n",
        "    self.b = y_train.mean() - (self.m * X_train.mean())\n",
        "    print(self.m)\n",
        "    print(self.b)\n",
        "\n",
        "\n",
        "  def predict(self,X_test):\n",
        "    return self.m * X_test + self.b\n",
        "    "
      ],
      "metadata": {
        "id": "6Jd3syJYtLOA"
      },
      "execution_count": null,
      "outputs": []
    },
    {
      "cell_type": "code",
      "source": [
        "lr = Simple_LR()\n",
        "lr.fit(X_train,y_train)"
      ],
      "metadata": {
        "colab": {
          "base_uri": "https://localhost:8080/"
        },
        "id": "JTuM5vBFM2sb",
        "outputId": "5f400f1b-ee5b-4d48-f39c-e3896488504c"
      },
      "execution_count": null,
      "outputs": [
        {
          "output_type": "stream",
          "name": "stdout",
          "text": [
            "[938.23786125]\n",
            "[152.91886183]\n"
          ]
        }
      ]
    },
    {
      "cell_type": "code",
      "source": [
        "y_pred = lr.predict(X_test)\n",
        "print(y_pred)"
      ],
      "metadata": {
        "colab": {
          "base_uri": "https://localhost:8080/"
        },
        "id": "C8XWKzLsM8np",
        "outputId": "564e143c-cfb0-48bb-da34-2a0764f99a39"
      },
      "execution_count": null,
      "outputs": [
        {
          "output_type": "stream",
          "name": "stdout",
          "text": [
            "[[225.9732401 ]\n",
            " [115.74763374]\n",
            " [163.27610621]\n",
            " [114.73638965]\n",
            " [120.80385422]\n",
            " [158.21988574]\n",
            " [236.08568105]\n",
            " [121.81509832]\n",
            " [ 99.56772822]\n",
            " [123.83758651]\n",
            " [204.73711411]\n",
            " [ 96.53399594]\n",
            " [154.17490936]\n",
            " [130.91629517]\n",
            " [ 83.3878227 ]\n",
            " [171.36605897]\n",
            " [137.99500384]\n",
            " [137.99500384]\n",
            " [189.56845268]\n",
            " [ 84.3990668 ]]\n"
          ]
        }
      ]
    },
    {
      "cell_type": "code",
      "source": [
        "class Multiple_LR:\n",
        "  def __inti__(self):\n",
        "    self.coef_ = None\n",
        "    self.intercept_ = None\n",
        "  def fit(self,X_train,y_train):\n",
        "    X_train = np.insert(X_train,0,1,axis=1)\n",
        "\n",
        "    B = np.linalg.inv(np.dot(X_train.T,X_train)).dot(X_train.T).dot(y_train)\n",
        "    print(B)\n",
        "    self.intercept_ = B[0]\n",
        "    self.coef_ = B[1:]\n",
        "    \n",
        "   \n",
        "\n",
        "\n",
        "  def predict(self,X_test):\n",
        "    return self.intercept_ + np.dot(X_test,self.coef_)\n",
        "    "
      ],
      "metadata": {
        "id": "543k8nr2tO9B"
      },
      "execution_count": 16,
      "outputs": []
    },
    {
      "cell_type": "code",
      "source": [
        "lrm = Multiple_LR()\n",
        "lrm.fit(X_train,y_train)"
      ],
      "metadata": {
        "colab": {
          "base_uri": "https://localhost:8080/"
        },
        "id": "xmFJtqP_vMtD",
        "outputId": "a0cae05c-2772-40d5-bb58-6a4c36f839f1"
      },
      "execution_count": 17,
      "outputs": [
        {
          "output_type": "stream",
          "name": "stdout",
          "text": [
            "[ 151.88334521   -9.16088483 -205.46225988  516.68462383  340.62734108\n",
            " -895.54360867  561.21453306  153.88478595  126.73431596  861.12139955\n",
            "   52.41982836]\n"
          ]
        }
      ]
    },
    {
      "cell_type": "code",
      "source": [
        "y_predm = lrm.predict(X_test)\n",
        "print(y_predm)"
      ],
      "metadata": {
        "colab": {
          "base_uri": "https://localhost:8080/"
        },
        "id": "6YNlvarHvUTI",
        "outputId": "96a48ad3-0a32-40b4-faf3-b6ade5a3f4aa"
      },
      "execution_count": 21,
      "outputs": [
        {
          "output_type": "stream",
          "name": "stdout",
          "text": [
            "[154.1235067  204.81721599 124.92988001 106.09339576 258.53035681\n",
            " 256.32953702 118.75258786 119.52147402 101.50717468 190.54137158\n",
            " 141.70360267 172.51631204 174.34089304 134.81184017 294.13950798\n",
            "  94.11403289 211.97052873 156.49984762 134.20709632 119.62534726\n",
            " 148.88045343 165.00378118 151.09977307 176.03719872 133.27651748\n",
            " 221.29531227 197.17482787  96.15923158  50.26531577 230.48342249\n",
            " 242.06266394 114.1153262   67.0785352   94.53179042 201.21593262\n",
            " 167.05306138 159.87838519 192.78601513 114.49291816 233.4825497\n",
            " 140.82309666 121.06814332 192.27431013 191.13157307 179.1698153\n",
            " 148.35140027 163.47610288 276.81203359 100.17813072 164.11265163\n",
            " 255.81074398 136.94979051 152.37507828 107.92662528 194.21661635\n",
            "  77.35015426 118.50951725  68.38527563 154.29094022 162.48905632\n",
            " 168.36590928 156.8764705   97.13958436 238.17121803 145.46093854\n",
            " 117.65678691 168.88768692 198.38893625 118.24408332 124.64831033\n",
            " 223.17842907 200.62634508 129.54591274 158.1553552  154.33593871\n",
            " 114.47109854  70.4524892   76.39237963 172.41319558  80.56189628\n",
            "  80.27309695  89.46135201 186.21265361 275.46607679 208.26816596\n",
            " 143.7962915  291.28438095 206.32601303  94.22801028]\n"
          ]
        }
      ]
    },
    {
      "cell_type": "code",
      "source": [
        "r2_score(y_test,y_predm)"
      ],
      "metadata": {
        "colab": {
          "base_uri": "https://localhost:8080/"
        },
        "id": "30hEyGDFwA3p",
        "outputId": "be9892ef-54e9-4d67-968b-f612785eb0cc"
      },
      "execution_count": 22,
      "outputs": [
        {
          "output_type": "execute_result",
          "data": {
            "text/plain": [
              "0.4399387660024645"
            ]
          },
          "metadata": {},
          "execution_count": 22
        }
      ]
    },
    {
      "cell_type": "code",
      "source": [
        "print(f\"{lrm.coef_} {lrm.intercept_}\")"
      ],
      "metadata": {
        "colab": {
          "base_uri": "https://localhost:8080/"
        },
        "id": "cdbtlafrwvgn",
        "outputId": "4ae72d65-68c2-4673-b411-980259619efa"
      },
      "execution_count": 33,
      "outputs": [
        {
          "output_type": "stream",
          "name": "stdout",
          "text": [
            "[  -9.16088483 -205.46225988  516.68462383  340.62734108 -895.54360867\n",
            "  561.21453306  153.88478595  126.73431596  861.12139955   52.41982836] 151.88334520854627\n"
          ]
        }
      ]
    },
    {
      "cell_type": "code",
      "source": [
        "plt.scatter(X,y)\n",
        "plt.plot(X_train,lr_sk.predict(X_train),color='red')"
      ],
      "metadata": {
        "colab": {
          "base_uri": "https://localhost:8080/",
          "height": 282
        },
        "id": "lu9WrSsrZMdt",
        "outputId": "b21de7b2-d639-4eab-a369-16c38301be0c"
      },
      "execution_count": null,
      "outputs": [
        {
          "output_type": "execute_result",
          "data": {
            "text/plain": [
              "[<matplotlib.lines.Line2D at 0x7f698473a250>]"
            ]
          },
          "metadata": {},
          "execution_count": 130
        },
        {
          "output_type": "display_data",
          "data": {
            "text/plain": [
              "<Figure size 432x288 with 1 Axes>"
            ],
            "image/png": "[encoded data removed]"
          },
          "metadata": {
            "needs_background": "light"
          }
        }
      ]
    },
    {
      "cell_type": "code",
      "source": [
        "plt.scatter(X,y)\n",
        "plt.plot(X_train,lr.predict(X_train),color='red')"
      ],
      "metadata": {
        "colab": {
          "base_uri": "https://localhost:8080/",
          "height": 282
        },
        "id": "Er4wY6pkRALa",
        "outputId": "bb3a7e76-47ac-4515-a807-136ffd0320dc"
      },
      "execution_count": null,
      "outputs": [
        {
          "output_type": "execute_result",
          "data": {
            "text/plain": [
              "[<matplotlib.lines.Line2D at 0x7f6984603c10>]"
            ]
          },
          "metadata": {},
          "execution_count": 133
        },
        {
          "output_type": "display_data",
          "data": {
            "text/plain": [
              "<Figure size 432x288 with 1 Axes>"
            ],
            "image/png": "[encoded data removed]"
          },
          "metadata": {
            "needs_background": "light"
          }
        }
      ]
    },
    {
      "cell_type": "code",
      "source": [
        "from sklearn.metrics import mean_absolute_error,mean_squared_error,r2_score\n",
        "\n",
        "print(f\"MAE {mean_absolute_error(y_test,y_pred)}\")\n",
        "print(f\"MSE {mean_squared_error(y_test,y_pred)}\")\n",
        "\n",
        "print(f\"R2 {r2_score(y_test,y_pred)}\")"
      ],
      "metadata": {
        "colab": {
          "base_uri": "https://localhost:8080/"
        },
        "id": "ZjU_DwxbYxBU",
        "outputId": "0b67851f-37ac-4c5c-b7e2-150ba5191cd0"
      },
      "execution_count": null,
      "outputs": [
        {
          "output_type": "stream",
          "name": "stdout",
          "text": [
            "MAE 41.22709128976144\n",
            "MSE 2548.0723987259694\n",
            "R2 0.47257544798227147\n"
          ]
        }
      ]
    },
    {
      "cell_type": "code",
      "source": [
        "X_test.shape"
      ],
      "metadata": {
        "colab": {
          "base_uri": "https://localhost:8080/"
        },
        "id": "BovXggiacm6k",
        "outputId": "54416c81-9d96-4a59-a91b-77c11472d61a"
      },
      "execution_count": null,
      "outputs": [
        {
          "output_type": "execute_result",
          "data": {
            "text/plain": [
              "(20, 1)"
            ]
          },
          "metadata": {},
          "execution_count": 137
        }
      ]
    },
    {
      "cell_type": "code",
      "source": [
        "#adjusted r2 score\n",
        "r2 = r2_score(y_test,y_pred)\n",
        "\n",
        "adj_r2 = 1-((1-r2)*(20-1)/(20-1-1))\n",
        "print(adj_r2)"
      ],
      "metadata": {
        "colab": {
          "base_uri": "https://localhost:8080/"
        },
        "id": "v_vsGQfFbazm",
        "outputId": "b78a684a-c3c0-47cf-b212-c7247511c3af"
      },
      "execution_count": null,
      "outputs": [
        {
          "output_type": "stream",
          "name": "stdout",
          "text": [
            "0.44327408398128654\n"
          ]
        }
      ]
    }
  ]
}