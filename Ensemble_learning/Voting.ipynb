{
  "nbformat": 4,
  "nbformat_minor": 0,
  "metadata": {
    "colab": {
      "provenance": []
    },
    "kernelspec": {
      "name": "python3",
      "display_name": "Python 3"
    },
    "language_info": {
      "name": "python"
    }
  },
  "cells": [
    {
      "cell_type": "code",
      "execution_count": null,
      "metadata": {
        "id": "oJo--t6osoCQ"
      },
      "outputs": [],
      "source": [
        "import numpy as np"
  
      ]
    },
    {
      "cell_type": "code",
      "source": [
        "from sklearn import datasets\n",
        "iris = datasets.load_iris()\n",
        "X = iris.data\n",
        "y = iris.target"
      ],
      "metadata": {
        "id": "ON5gy6cPsrn3"
      },
      "execution_count": null,
      "outputs": []
    },
    {
      "cell_type": "code",
      "source": [
        "from sklearn.linear_model import LogisticRegression\n",
        "from sklearn.neighbors import KNeighborsClassifier\n",
        "from sklearn.ensemble import RandomForestClassifier\n",
        "from sklearn.model_selection import cross_val_score"
      ],
      "metadata": {
        "id": "UXXw_R92szI3"
      },
      "execution_count": null,
      "outputs": []
    },
    {
      "cell_type": "code",
      "source": [
        "clf1 = LogisticRegression(max_iter=1000)\n",
        "clf2 = RandomForestClassifier()\n",
        "clf3 = KNeighborsClassifier()\n"
      ],
      "metadata": {
        "id": "Y2XTz-mTtRw3"
      },
      "execution_count": null,
      "outputs": []
    },
    {
      "cell_type": "code",
      "source": [
        "estimators = [('lr',clf1),('rf',clf2),('knn',clf3)]"
      ],
      "metadata": {
        "id": "AzT5q6BmuQzo"
      },
      "execution_count": null,
      "outputs": []
    },
    {
      "cell_type": "code",
      "source": [
        "for estimator in estimators:\n",
        "    x = cross_val_score(estimator[1],X,y,cv=10,scoring='accuracy')\n",
        "    print(estimator[0],np.round(np.mean(x),2))\n"
      ],
      "metadata": {
        "colab": {
          "base_uri": "https://localhost:8080/"
        },
        "id": "lZmzlCs8uRuv",
        "outputId": "623de064-93ae-4456-b14d-af62f2b5f68c"
      },
      "execution_count": null,
      "outputs": [
        {
          "output_type": "stream",
          "name": "stdout",
          "text": [
            "lr 0.97\n",
            "rf 0.96\n",
            "knn 0.97\n"
          ]
        }
      ]
    },
    {
      "cell_type": "code",
      "source": [
        "from sklearn.ensemble import VotingClassifier\n",
        "vc = VotingClassifier(estimators=estimators,voting='hard')\n",
        "x = cross_val_score(vc,X,y,cv=10,scoring='accuracy')\n",
        "print(np.round(np.mean(x),2))"
      ],
      "metadata": {
        "colab": {
          "base_uri": "https://localhost:8080/"
        },
        "id": "5_4xYLt7uXzH",
        "outputId": "ffd62d77-bd8c-4e47-fdc0-43c5416c15f8"
      },
      "execution_count": null,
      "outputs": [
        {
          "output_type": "stream",
          "name": "stdout",
          "text": [
            "0.97\n"
          ]
        }
      ]
    },
    {
      "cell_type": "code",
      "source": [
        "vc1 = VotingClassifier(estimators=estimators,voting='soft')\n",
        "x = cross_val_score(vc1,X,y,cv=10,scoring='accuracy')\n",
        "print(np.round(np.mean(x),2))"
      ],
      "metadata": {
        "colab": {
          "base_uri": "https://localhost:8080/"
        },
        "id": "rvwzMYCduct-",
        "outputId": "0963a7ec-bd8a-45a0-b9ac-3ef2604bfa8f"
      },
      "execution_count": null,
      "outputs": [
        {
          "output_type": "stream",
          "name": "stdout",
          "text": [
            "0.96\n"
          ]
        }
      ]
    },
    {
      "cell_type": "markdown",
      "source": [
        "Stacking"
      ],
      "metadata": {
        "id": "HaaAsOA3uvdC"
      }
    },
    {
      "cell_type": "code",
      "source": [
        "for i in range(1,4):\n",
        "    for j in range(1,4):\n",
        "        for k in range(1,4):\n",
        "            vc = VotingClassifier(estimators=estimators,voting='soft',weights=[i,j,k])\n",
        "            x = cross_val_score(vc,X,y,cv=10,scoring='accuracy')\n",
        "            print(\"for i={},j={},k={}\".format(i,j,k),np.round(np.mean(x),2))"
      ],
      "metadata": {
        "colab": {
          "base_uri": "https://localhost:8080/"
        },
        "id": "ooWWPeQLukMX",
        "outputId": "5cab5651-52a1-4ee1-a980-84bd08fff0e7"
      },
      "execution_count": null,
      "outputs": [
        {
          "output_type": "stream",
          "name": "stdout",
          "text": [
            "for i=1,j=1,k=1 0.96\n",
            "for i=1,j=1,k=2 0.96\n",
            "for i=1,j=1,k=3 0.97\n",
            "for i=1,j=2,k=1 0.97\n",
            "for i=1,j=2,k=2 0.96\n",
            "for i=1,j=2,k=3 0.96\n",
            "for i=1,j=3,k=1 0.95\n",
            "for i=1,j=3,k=2 0.96\n",
            "for i=1,j=3,k=3 0.96\n",
            "for i=2,j=1,k=1 0.97\n",
            "for i=2,j=1,k=2 0.96\n",
            "for i=2,j=1,k=3 0.96\n",
            "for i=2,j=2,k=1 0.97\n",
            "for i=2,j=2,k=2 0.96\n",
            "for i=2,j=2,k=3 0.96\n",
            "for i=2,j=3,k=1 0.96\n",
            "for i=2,j=3,k=2 0.96\n",
            "for i=2,j=3,k=3 0.96\n",
            "for i=3,j=1,k=1 0.97\n",
            "for i=3,j=1,k=2 0.96\n",
            "for i=3,j=1,k=3 0.97\n",
            "for i=3,j=2,k=1 0.97\n",
            "for i=3,j=2,k=2 0.96\n",
            "for i=3,j=2,k=3 0.96\n",
            "for i=3,j=3,k=1 0.96\n",
            "for i=3,j=3,k=2 0.96\n",
            "for i=3,j=3,k=3 0.96\n"
          ]
        }
      ]
    },
    {
      "cell_type": "markdown",
      "source": [
        "Same model different parameters"
      ],
      "metadata": {
        "id": "ghphsbytwKTh"
      }
    },
    {
      "cell_type": "code",
      "source": [
        "from sklearn.svm import SVC\n",
        "\n",
        "from sklearn.datasets import make_classification\n",
        "\n",
        "X, y = make_classification(n_samples=1000, n_features=20, n_informative=15, n_redundant=5, random_state=2)\n",
        "\n",
        "svm1 = SVC(probability=True, kernel='poly', degree=1)\n",
        "svm2 = SVC(probability=True, kernel='poly', degree=2)\n",
        "svm3 = SVC(probability=True, kernel='poly', degree=3)\n",
        "svm4 = SVC(probability=True, kernel='poly', degree=4)\n",
        "svm5 = SVC(probability=True, kernel='poly', degree=5)\n",
        "\n",
        "estimators = [('svm1',svm1),('svm2',svm2),('svm3',svm3),('svm4',svm4),('svm5',svm5)]\n",
        "\n",
        "for estimator in estimators:\n",
        "    x = cross_val_score(estimator[1],X,y,cv=10,scoring='accuracy')\n",
        "    print(estimator[0],np.round(np.mean(x),2))"
      ],
      "metadata": {
        "colab": {
          "base_uri": "https://localhost:8080/"
        },
        "id": "moM0dTTTuxgO",
        "outputId": "62d8bf0f-e18f-4ec5-e91c-2da4dfa8601e"
      },
      "execution_count": null,
      "outputs": [
        {
          "output_type": "stream",
          "name": "stdout",
          "text": [
            "svm1 0.85\n",
            "svm2 0.85\n",
            "svm3 0.89\n",
            "svm4 0.81\n",
            "svm5 0.86\n"
          ]
        }
      ]
    },
    {
      "cell_type": "code",
      "source": [
        "vc1 = VotingClassifier(estimators=estimators,voting='soft')\n",
        "x = cross_val_score(vc1,X,y,cv=10,scoring='accuracy')\n",
        "print(np.round(np.mean(x),2))"
      ],
      "metadata": {
        "colab": {
          "base_uri": "https://localhost:8080/"
        },
        "id": "aOpOl6qUu-Ae",
        "outputId": "42254da5-3b04-4a48-91eb-0ce1f45728eb"
      },
      "execution_count": null,
      "outputs": [
        {
          "output_type": "stream",
          "name": "stdout",
          "text": [
            "0.93\n"
          ]
        }
      ]
    },
    {
      "cell_type": "code",
      "source": [
        "\n",
        "from sklearn.datasets import load_boston\n",
        "import numpy as np\n",
        "     \n",
        "\n",
        "X,y = load_boston(return_X_y=True)"
      ],
      "metadata": {
        "colab": {
          "base_uri": "https://localhost:8080/"
        },
        "id": "XHEbh60bvDzd",
        "outputId": "950231fc-3c63-4afc-aecb-b3c9e10f2b0b"
      },
      "execution_count": null,
      "outputs": [
        {
          "output_type": "stream",
          "name": "stderr",
          "text": [
            "/usr/local/lib/python3.8/dist-packages/sklearn/utils/deprecation.py:87: FutureWarning: Function load_boston is deprecated; `load_boston` is deprecated in 1.0 and will be removed in 1.2.\n",
            "\n",
            "    The Boston housing prices dataset has an ethical problem. You can refer to\n",
            "    the documentation of this function for further details.\n",
            "\n",
            "    The scikit-learn maintainers therefore strongly discourage the use of this\n",
            "    dataset unless the purpose of the code is to study and educate about\n",
            "    ethical issues in data science and machine learning.\n",
            "\n",
            "    In this special case, you can fetch the dataset from the original\n",
            "    source::\n",
            "\n",
            "        import pandas as pd\n",
            "        import numpy as np\n",
            "\n",
            "\n",
            "        data_url = \"http://lib.stat.cmu.edu/datasets/boston\"\n",
            "        raw_df = pd.read_csv(data_url, sep=\"\\s+\", skiprows=22, header=None)\n",
            "        data = np.hstack([raw_df.values[::2, :], raw_df.values[1::2, :2]])\n",
            "        target = raw_df.values[1::2, 2]\n",
            "\n",
            "    Alternative datasets include the California housing dataset (i.e.\n",
            "    :func:`~sklearn.datasets.fetch_california_housing`) and the Ames housing\n",
            "    dataset. You can load the datasets as follows::\n",
            "\n",
            "        from sklearn.datasets import fetch_california_housing\n",
            "        housing = fetch_california_housing()\n",
            "\n",
            "    for the California housing dataset and::\n",
            "\n",
            "        from sklearn.datasets import fetch_openml\n",
            "        housing = fetch_openml(name=\"house_prices\", as_frame=True)\n",
            "\n",
            "    for the Ames housing dataset.\n",
            "    \n",
            "  warnings.warn(msg, category=FutureWarning)\n"
          ]
        }
      ]
    },
    {
      "cell_type": "code",
      "source": [
        "\n",
        "from sklearn.linear_model import LinearRegression\n",
        "from sklearn.tree import DecisionTreeRegressor\n",
        "from sklearn.svm import SVR\n",
        "from sklearn.model_selection import cross_val_score"
      ],
      "metadata": {
        "id": "0uSEGrq0vUs-"
      },
      "execution_count": null,
      "outputs": []
    },
    {
      "cell_type": "code",
      "source": [
        "lr = LinearRegression()\n",
        "dt = DecisionTreeRegressor()\n",
        "svr = SVR()\n",
        "     \n",
        "estimators = [('lr',lr),('dt',dt),('svr',svr)]"
      ],
      "metadata": {
        "id": "sUHzZoPkvZqu"
      },
      "execution_count": null,
      "outputs": []
    },
    {
      "cell_type": "code",
      "source": [
        "for estimator in estimators:\n",
        "  scores = cross_val_score(estimator[1],X,y,scoring='r2',cv=10)\n",
        "  print(estimator[0],np.round(np.mean(scores),2))"
      ],
      "metadata": {
        "colab": {
          "base_uri": "https://localhost:8080/"
        },
        "id": "qzfB5cMvvc0M",
        "outputId": "1dd313c3-3ec7-4cf9-8a45-3b62fbd743c6"
      },
      "execution_count": null,
      "outputs": [
        {
          "output_type": "stream",
          "name": "stdout",
          "text": [
            "lr 0.2\n",
            "dt -0.08\n",
            "svr -0.41\n"
          ]
        }
      ]
    },
    {
      "cell_type": "code",
      "source": [
        "from sklearn.ensemble import VotingRegressor\n",
        "     \n",
        "vr = VotingRegressor(estimators)\n",
        "scores = cross_val_score(vr,X,y,scoring='r2',cv=10)\n",
        "print(\"Voting Regressor\",np.round(np.mean(scores),2))"
      ],
      "metadata": {
        "colab": {
          "base_uri": "https://localhost:8080/"
        },
        "id": "v-zFkkqNvhkc",
        "outputId": "35743fda-ca34-46e4-e428-3a37e3f28bc8"
      },
      "execution_count": null,
      "outputs": [
        {
          "output_type": "stream",
          "name": "stdout",
          "text": [
            "Voting Regressor 0.46\n"
          ]
        }
      ]
    },
    {
      "cell_type": "code",
      "source": [
        "for i in range(1,4):\n",
        "  for j in range(1,4):\n",
        "    for k in range(1,4):\n",
        "      vr = VotingRegressor(estimators,weights=[i,j,k])\n",
        "      scores = cross_val_score(vr,X,y,scoring='r2',cv=10)\n",
        "      print(\"For i={},j={},k={}\".format(i,j,k),np.round(np.mean(scores),2))"
      ],
      "metadata": {
        "colab": {
          "base_uri": "https://localhost:8080/"
        },
        "id": "Aag_tggVvlrO",
        "outputId": "d57f23aa-4696-4c0e-d60c-c77ffc635ef7"
      },
      "execution_count": null,
      "outputs": [
        {
          "output_type": "stream",
          "name": "stdout",
          "text": [
            "For i=1,j=1,k=1 0.46\n",
            "For i=1,j=1,k=2 0.31\n",
            "For i=1,j=1,k=3 0.26\n",
            "For i=1,j=2,k=1 0.43\n",
            "For i=1,j=2,k=2 0.4\n",
            "For i=1,j=2,k=3 0.32\n",
            "For i=1,j=3,k=1 0.22\n",
            "For i=1,j=3,k=2 0.29\n",
            "For i=1,j=3,k=3 0.36\n",
            "For i=2,j=1,k=1 0.46\n",
            "For i=2,j=1,k=2 0.41\n",
            "For i=2,j=1,k=3 0.34\n",
            "For i=2,j=2,k=1 0.42\n",
            "For i=2,j=2,k=2 0.44\n",
            "For i=2,j=2,k=3 0.41\n",
            "For i=2,j=3,k=1 0.41\n",
            "For i=2,j=3,k=2 0.42\n",
            "For i=2,j=3,k=3 0.41\n",
            "For i=3,j=1,k=1 0.43\n",
            "For i=3,j=1,k=2 0.42\n",
            "For i=3,j=1,k=3 0.4\n",
            "For i=3,j=2,k=1 0.45\n",
            "For i=3,j=2,k=2 0.47\n",
            "For i=3,j=2,k=3 0.43\n",
            "For i=3,j=3,k=1 0.41\n",
            "For i=3,j=3,k=2 0.45\n",
            "For i=3,j=3,k=3 0.39\n"
          ]
        }
      ]
    },
    {
      "cell_type": "markdown",
      "source": [
        "Same model different parameters"
      ],
      "metadata": {
        "id": "ZROOMM7FvziS"
      }
    },
    {
      "cell_type": "code",
      "source": [
        "\n",
        "dt1 = DecisionTreeRegressor(max_depth=1)\n",
        "dt2 = DecisionTreeRegressor(max_depth=3)\n",
        "dt3 = DecisionTreeRegressor(max_depth=5)\n",
        "dt4 = DecisionTreeRegressor(max_depth=7)\n",
        "dt5 = DecisionTreeRegressor(max_depth=None)\n",
        "estimators = [('dt1',dt1),('dt2',dt2),('dt3',dt3),('dt4',dt4),('dt5',dt5)]"
      ],
      "metadata": {
        "id": "UbMRhziyvqSG"
      },
      "execution_count": null,
      "outputs": []
    },
    {
      "cell_type": "code",
      "source": [
        "for estimator in estimators:\n",
        "  scores = cross_val_score(estimator[1],X,y,scoring='r2',cv=10)\n",
        "  print(estimator[0],np.round(np.mean(scores),2))"
      ],
      "metadata": {
        "colab": {
          "base_uri": "https://localhost:8080/"
        },
        "id": "G93Ip7AIv4Bt",
        "outputId": "860c788d-2f41-4526-fde3-2cb239559f79"
      },
      "execution_count": null,
      "outputs": [
        {
          "output_type": "stream",
          "name": "stdout",
          "text": [
            "dt1 -0.85\n",
            "dt2 -0.11\n",
            "dt3 -0.15\n",
            "dt4 0.07\n",
            "dt5 -0.08\n"
          ]
        }
      ]
    },
    {
      "cell_type": "code",
      "source": [
        "vr = VotingRegressor(estimators)\n",
        "scores = cross_val_score(vr,X,y,scoring='r2',cv=10)\n",
        "print(\"Voting Regressor\",np.round(np.mean(scores),2))"
      ],
      "metadata": {
        "colab": {
          "base_uri": "https://localhost:8080/"
        },
        "id": "giLHOHoPv71u",
        "outputId": "e7137977-2ee1-43cd-f502-87358fc6ae66"
      },
      "execution_count": null,
      "outputs": [
        {
          "output_type": "stream",
          "name": "stdout",
          "text": [
            "Voting Regressor 0.17\n"
          ]
        }
      ]
    },
    {
      "cell_type": "code",
      "source": [],
      "metadata": {
        "id": "y1PLvOC7v-22"
      },
      "execution_count": null,
      "outputs": []
    }
  ]
}
